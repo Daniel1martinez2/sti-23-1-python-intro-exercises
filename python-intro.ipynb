{
 "cells": [
  {
   "cell_type": "markdown",
   "id": "2e3c53b4",
   "metadata": {},
   "source": [
    "# Python Intro 🐍\n",
    "Este ejercicio tiene como objetivo practicar algunas nociones básicas de Python"
   ]
  },
  {
   "cell_type": "markdown",
   "id": "bcb29d4a",
   "metadata": {},
   "source": [
    "##  📕 Operaciones con Strings (str)"
   ]
  },
  {
   "cell_type": "markdown",
   "id": "230d3edb",
   "metadata": {},
   "source": [
    "Dividir el string dado según los espacios, obteniendo como resultado una lista de las palabras"
   ]
  },
  {
   "cell_type": "code",
   "execution_count": 3,
   "id": "aff586b8",
   "metadata": {},
   "outputs": [],
   "source": [
    "s = \"The universe doesn't allow perfection\""
   ]
  },
  {
   "cell_type": "markdown",
   "id": "9c2bc104",
   "metadata": {},
   "source": [
    "## 🍕 Operaciones con Listas"
   ]
  },
  {
   "cell_type": "markdown",
   "id": "17a218a4",
   "metadata": {},
   "source": [
    "Dada la siguiente lista, obtener los primeros 3 elementos en una lista disferente (no modificar la lista original)"
   ]
  },
  {
   "cell_type": "code",
   "execution_count": 7,
   "id": "a6d580df",
   "metadata": {},
   "outputs": [],
   "source": [
    "lst = [0, 1, 2, 3, 4, 5, 6, 7, 8, 9, 10]"
   ]
  },
  {
   "cell_type": "markdown",
   "id": "44307638",
   "metadata": {},
   "source": [
    "Dada la siguiente lista, obtener los últimos 3 elementos en una lista diferente (no modificar la lista original)"
   ]
  },
  {
   "cell_type": "code",
   "execution_count": 8,
   "id": "9c0d08be",
   "metadata": {},
   "outputs": [],
   "source": [
    "lst = [0, 1, 2, 3, 4, 5, 6, 7, 8, 9, 10]"
   ]
  },
  {
   "cell_type": "markdown",
   "id": "4f0367a7",
   "metadata": {},
   "source": [
    "Dada la siguiente lista, obtener solo los números pares"
   ]
  },
  {
   "cell_type": "code",
   "execution_count": 10,
   "id": "82bb87e7",
   "metadata": {},
   "outputs": [],
   "source": [
    "lst = [0, 1, 2, 3, 4, 5, 6, 7, 8, 9, 10]"
   ]
  },
  {
   "cell_type": "markdown",
   "id": "afbd0165",
   "metadata": {},
   "source": [
    "Dada la siguiente lista, revertir la lista"
   ]
  },
  {
   "cell_type": "code",
   "execution_count": 11,
   "id": "a9de014d",
   "metadata": {},
   "outputs": [],
   "source": [
    "lst = [0, 1, 2, 3, 4, 5, 6, 7, 8, 9, 10]"
   ]
  },
  {
   "cell_type": "markdown",
   "id": "19cb7d3d",
   "metadata": {},
   "source": [
    "Ordenar la siguiente lista de menor a mayor"
   ]
  },
  {
   "cell_type": "code",
   "execution_count": 14,
   "id": "4cbb0ec6",
   "metadata": {},
   "outputs": [],
   "source": [
    "lst = [4, 1, 6, 12, 3, 2, 1, 7, 1, 0, 14]"
   ]
  },
  {
   "cell_type": "markdown",
   "id": "aab9554c",
   "metadata": {},
   "source": [
    "Dada la siguiente lista, seleccionar e imprimir la palabra \"Hello\""
   ]
  },
  {
   "cell_type": "code",
   "execution_count": 1,
   "id": "0baa850a",
   "metadata": {
    "ExecuteTime": {
     "end_time": "2023-02-06T20:46:28.438222Z",
     "start_time": "2023-02-06T20:46:28.426867Z"
    }
   },
   "outputs": [],
   "source": [
    "lst = [1,2,[3,4],[5,[100,200,['hello']],23,11],1,7]"
   ]
  },
  {
   "cell_type": "markdown",
   "id": "4e7485bd",
   "metadata": {},
   "source": [
    "***(Dificultad: medianamente complicado)*** Ordenar la siguiente lista de diccionarios de mayor a menor y de menor a mayor según el valor de 'age'"
   ]
  },
  {
   "cell_type": "code",
   "execution_count": 20,
   "id": "0a08b09e",
   "metadata": {},
   "outputs": [],
   "source": [
    "lst = [\n",
    "    {\n",
    "        \"name\": \"A\",\n",
    "        \"age\": 12\n",
    "    },\n",
    "        {\n",
    "        \"name\": \"B\",\n",
    "        \"age\": 22\n",
    "    },\n",
    "        {\n",
    "        \"name\": \"C\",\n",
    "        \"age\": 2\n",
    "    },\n",
    "        {\n",
    "        \"name\": \"D\",\n",
    "        \"age\": 4\n",
    "    },\n",
    "        {\n",
    "        \"name\": \"E\",\n",
    "        \"age\": 42\n",
    "    },\n",
    "]"
   ]
  },
  {
   "cell_type": "markdown",
   "id": "3e4b4828",
   "metadata": {},
   "source": [
    "## 🔥 Funciones\n",
    "***Principalmente existen 2 formas de crear funciones en python***"
   ]
  },
  {
   "cell_type": "code",
   "execution_count": 4,
   "id": "1fe1e0fb",
   "metadata": {
    "ExecuteTime": {
     "end_time": "2023-02-08T01:54:06.052825Z",
     "start_time": "2023-02-08T01:54:06.046614Z"
    }
   },
   "outputs": [],
   "source": [
    "#1. def\n",
    "def function_name_1 (a, b, c):\n",
    "    #some logic\n",
    "    return 'Lo que se va a retornar en esta función'\n",
    "\n",
    "#2. lambda -> muy utilizada para pasarla como argumento dentro de otra función\n",
    "function_name_2 = lambda a, b, c: 'luego de los puntos va lo que se retorna'"
   ]
  },
  {
   "cell_type": "markdown",
   "id": "cbe57dde",
   "metadata": {},
   "source": [
    "Crear una función que reciba de entrada un correo electrónico en formato string, y retorne el dominio (lo que va desúes de @)\n",
    "- Entrada: user@domain.com\n",
    "- Salida esperada: domain.com"
   ]
  },
  {
   "cell_type": "raw",
   "id": "f08d8be8",
   "metadata": {},
   "source": []
  },
  {
   "cell_type": "markdown",
   "id": "1955a405",
   "metadata": {},
   "source": [
    "Usar la expresión lambda para filtrar las palabras que no inicien en s de la siguiente lista"
   ]
  },
  {
   "cell_type": "code",
   "execution_count": 12,
   "id": "a7b81ad7",
   "metadata": {},
   "outputs": [],
   "source": [
    "seq = ['soup','dog','salad','cat','great']"
   ]
  },
  {
   "cell_type": "markdown",
   "id": "fa54904f",
   "metadata": {},
   "source": [
    "Crear una función que reciba 2 parámetros, el primero un frase, y el segundo una palabra (ambos son de tipo string), esta función recisará si la palabra (segundo parámetro) se enceuntra en la frase (primer parámetro), slo retornará True o False según el caso."
   ]
  },
  {
   "cell_type": "code",
   "execution_count": null,
   "id": "cb0184b4",
   "metadata": {},
   "outputs": [],
   "source": []
  },
  {
   "cell_type": "markdown",
   "id": "a93135a9",
   "metadata": {},
   "source": [
    "## 🍎 Numpy básico\n",
    "la documentación oficial de numpy esta aquí: <a href=\"https://numpy.org/doc/stable/reference/index.html#reference\">Numpy reference</a>"
   ]
  },
  {
   "cell_type": "markdown",
   "id": "16457fa5",
   "metadata": {},
   "source": [
    "Importa numpy como np"
   ]
  },
  {
   "cell_type": "code",
   "execution_count": null,
   "id": "e2dbf833",
   "metadata": {},
   "outputs": [],
   "source": []
  },
  {
   "cell_type": "markdown",
   "id": "3157153e",
   "metadata": {},
   "source": [
    "Crea un arreglo de 10 ceros"
   ]
  },
  {
   "cell_type": "code",
   "execution_count": null,
   "id": "605d3d0f",
   "metadata": {},
   "outputs": [],
   "source": []
  },
  {
   "cell_type": "markdown",
   "id": "e8bff575",
   "metadata": {},
   "source": [
    "Crea un arreglo de 10 unos"
   ]
  },
  {
   "cell_type": "code",
   "execution_count": null,
   "id": "146079a6",
   "metadata": {},
   "outputs": [],
   "source": []
  },
  {
   "cell_type": "markdown",
   "id": "0d9c50ac",
   "metadata": {},
   "source": []
  }
 ],
 "metadata": {
  "kernelspec": {
   "display_name": "Python 3 (ipykernel)",
   "language": "python",
   "name": "python3"
  },
  "language_info": {
   "codemirror_mode": {
    "name": "ipython",
    "version": 3
   },
   "file_extension": ".py",
   "mimetype": "text/x-python",
   "name": "python",
   "nbconvert_exporter": "python",
   "pygments_lexer": "ipython3",
   "version": "3.9.10"
  }
 },
 "nbformat": 4,
 "nbformat_minor": 5
}
